{
 "cells": [
  {
   "cell_type": "markdown",
   "id": "562596aa",
   "metadata": {},
   "source": [
    "![rmotr](https://raw.githubusercontent.com/hyontnick/Canam_Concour_BI_Hyonta_B/main/logo-canam.png)\n",
    "<hr style=\"margin-bottom: 40px;\">\n",
    "\n",
    "<div style=\"text-align: center;\">\n",
    "    <h2><u>Dashboard</u></h2>\n",
    "</div>"
   ]
  },
  {
   "cell_type": "markdown",
   "id": "7a9181a2",
   "metadata": {},
   "source": [
    "![image canam](https://raw.githubusercontent.com/hyontnick/Canam_Concour_BI_Hyonta_B/main/canam_pp.jpg)"
   ]
  },
  {
   "cell_type": "markdown",
   "id": "529baa2f",
   "metadata": {},
   "source": [
    "![green-divider](https://user-images.githubusercontent.com/7065401/52071924-c003ad80-2562-11e9-8297-1c6595f8a7ff.png)"
   ]
  },
  {
   "cell_type": "markdown",
   "id": "ad8d8e5a",
   "metadata": {},
   "source": [
    "<div style=\"text-align: center;\">\n",
    "    <h2><u>Resultats des analyses des facteurs clés qui influeance la réussite scolaire des édutiants</u></h2>\n",
    "</div>"
   ]
  },
  {
   "cell_type": "markdown",
   "id": "f42a2468",
   "metadata": {},
   "source": [
    "### Ainsi voicie les 20 facteurs cle clés rétenue sur les 38 initial  \n",
    "\n",
    "<p style=\"text-align: center;\"> <b><i><u>Statistique par facteur rétenue </u></i></b></p>\n",
    "\n",
    "<hr>\n",
    "<hr>\n",
    "        \n",
    "|                  Facteur                   |      Pourcentages de Réussite      |\n",
    "|--------------------------------------------|------------------------------------|\n",
    "|               week_absences                |               66.07%               |\n",
    "|                    age                     |               51.39%               |\n",
    "|        parental level of education         |               44.96%               |\n",
    "|               race/ethnicity               |               37.00%               |\n",
    "|                school mark                 |               36.71%               |\n",
    "|             daily studing time             |               29.35%               |\n",
    "|                Sleep_Hours                 |               29.35%               |\n",
    "|              Financial Status              |               29.25%               |\n",
    "|            ParentMaritalStatus             |               28.49%               |\n",
    "        \n",
    "\n",
    "<hr>\n",
    "<hr>\n",
    "\n",
    "|                  Facteur                   |         Pourcentages d'Échec       |\n",
    "|--------------------------------------------|------------------------------------|\n",
    "|          test preparation course           |                 4.81%              |\n",
    "|              teaching_method               |                 5.31%              |\n",
    "|                   gender                   |                 5.32%              |\n",
    "|                school_type                 |                 5.32%              |\n",
    "|         extracurricular_activities         |                 5.32%              |\n",
    "|                  internet                  |                 5.32%              |\n",
    "|              Additional work               |                 5.32%              |\n",
    "|        Transportation to the school        |                 5.32%              |\n",
    "|            Listening in classes            |                 5.32%              |\n",
    "|                   safety                   |                 5.45%              |\n",
    "|                   lunch                    |                 6.04%              |\n",
    "\n",
    "\n",
    "<hr>\n",
    "<hr>\n",
    "\n",
    "<p style=\"text-align: center;\"> <b><i><u>Statistique globale de performance des données</u></i></b></p>\n",
    "\n",
    "\n",
    "|         Pourcentages de Réussite           |        Pourcentages d'Échec        |\n",
    "|--------------------------------------------|------------------------------------|\n",
    "|                    73.40%                  |               26.60%               |\n",
    "`\n"
   ]
  },
  {
   "cell_type": "markdown",
   "id": "cb375006",
   "metadata": {},
   "source": [
    "![green-divider](https://user-images.githubusercontent.com/7065401/52071924-c003ad80-2562-11e9-8297-1c6595f8a7ff.png)"
   ]
  },
  {
   "cell_type": "markdown",
   "id": "64ec2311",
   "metadata": {},
   "source": [
    "<p style=\"text-align: center;\"> <b>Visualisation des facteurs rétenue par pourcentage d'Échec </b></p>\n",
    "<!-- fig1&11 -->\n",
    "<div style=\"display: flex; flex-direction: row;\">\n",
    "    <img src=\"https://raw.githubusercontent.com/hyontnick/Canam_Concour_BI_Hyonta_B/main/Préparation_aux_Examens.png\" alt=\"Préparation aux Examens\" style=\"width: 45%; margin-right: 5%;\">\n",
    "    <img src=\"https://raw.githubusercontent.com/hyontnick/Canam_Concour_BI_Hyonta_B/main/Qaulité_Alimentation.png\" alt=\"Qaulité Alimentation\" style=\"width: 45%;\">\n",
    "</div>\n",
    "<img src=\"https://raw.githubusercontent.com/hyontnick/Canam_Concour_BI_Hyonta_B/main/canam_footer.png\">\n",
    "\n",
    "<!-- fig2&3 -->\n",
    "<div style=\"display: flex; flex-direction: row;\">\n",
    "    <img src=\"https://raw.githubusercontent.com/hyontnick/Canam_Concour_BI_Hyonta_B/main/Méthodes_enseignement.png\" alt=\"Méthodes enseignement\" style=\"width: 45%; margin-right: 5%;\">\n",
    "    <img src=\"https://raw.githubusercontent.com/hyontnick/Canam_Concour_BI_Hyonta_B/main/Sexe.png\" alt=\"Sexe\" style=\"width: 45%;\">\n",
    "</div>\n",
    "<img src=\"https://raw.githubusercontent.com/hyontnick/Canam_Concour_BI_Hyonta_B/main/canam_footer.png\">\n",
    "\n",
    "<!-- fig4&5 -->\n",
    "<div style=\"display: flex; flex-direction: row;\">\n",
    "    <img src=\"https://raw.githubusercontent.com/hyontnick/Canam_Concour_BI_Hyonta_B/main/Status_École.png\" alt=\"Status École\" style=\"width: 45%; margin-right: 5%;\">\n",
    "    <img src=\"https://raw.githubusercontent.com/hyontnick/Canam_Concour_BI_Hyonta_B/main/Satisfaction_Vis_a_Vis_Etablissement.png\" alt=\"Satisfaction Vis a Vis Etablissement\" style=\"width: 45%;\">\n",
    "</div>\n",
    "<img src=\"https://raw.githubusercontent.com/hyontnick/Canam_Concour_BI_Hyonta_B/main/canam_footer.png\">\n",
    "\n",
    "<!-- fig6&7 -->\n",
    "<div style=\"display: flex; flex-direction: row;\">\n",
    "    <img src=\"https://raw.githubusercontent.com/hyontnick/Canam_Concour_BI_Hyonta_B/main/Activité_ParaAcademique.png\" alt=\"Activité ParaAcademique\" style=\"width: 45%; margin-right: 5%;\">\n",
    "    <img src=\"https://raw.githubusercontent.com/hyontnick/Canam_Concour_BI_Hyonta_B/main/Utilisatiin_Internet.png\" alt=\"Utilisation Internet\" style=\"width: 45%;\">\n",
    "</div>\n",
    "<img src=\"https://raw.githubusercontent.com/hyontnick/Canam_Concour_BI_Hyonta_B/main/canam_footer.png\">\n",
    "\n",
    "<!-- fig8&9 -->\n",
    "<div style=\"display: flex; flex-direction: row;\">\n",
    "    <img src=\"https://raw.githubusercontent.com/hyontnick/Canam_Concour_BI_Hyonta_B/main/Cours_de_Répétition.png\" alt=\"Cours de Répétition\" style=\"width: 45%; margin-right: 5%;\">\n",
    "    <img src=\"https://raw.githubusercontent.com/hyontnick/Canam_Concour_BI_Hyonta_B/main/Utilisation_un_Moyen_de_Transport.png\" alt=\"Utilisation d'un Moyen de Transport\" style=\"width: 45%;\">\n",
    "</div>\n",
    "<img src=\"https://raw.githubusercontent.com/hyontnick/Canam_Concour_BI_Hyonta_B/main/canam_footer.png\">\n",
    "\n",
    "<!-- fig9&10 -->\n",
    "<div style=\"display: flex; flex-direction: row;\">\n",
    "    <img src=\"https://raw.githubusercontent.com/hyontnick/Canam_Concour_BI_Hyonta_B/main/Attention_en_Cours.png\" alt=\"Attention en Cours\" style=\"width: 45%; margin-right: 5%;\">\n",
    "    <img src=\"https://raw.githubusercontent.com/hyontnick/Canam_Concour_BI_Hyonta_B/main/Sécurité.png\" alt=\"Sécurité\" style=\"width: 45%;\">\n",
    "</div>\n",
    "<img src=\"https://raw.githubusercontent.com/hyontnick/Canam_Concour_BI_Hyonta_B/main/canam_footer.png\">\n"
   ]
  },
  {
   "cell_type": "markdown",
   "id": "42279ba1",
   "metadata": {},
   "source": [
    "![green-divider](https://user-images.githubusercontent.com/7065401/52071924-c003ad80-2562-11e9-8297-1c6595f8a7ff.png)"
   ]
  },
  {
   "cell_type": "markdown",
   "id": "1391abac",
   "metadata": {},
   "source": [
    "<p style=\"text-align: center;\"> <b>Visualisation des facteurs rétenue par pourcentage de Réussite </b></p>\n",
    "<!-- fig1 -->\n",
    "<div>\n",
    "    <img src=\"https://raw.githubusercontent.com/hyontnick/Canam_Concour_BI_Hyonta_B/main/Absentéisme.png\" alt=\"Absentéisme\">\n",
    "</div>\n",
    "<img src=\"https://raw.githubusercontent.com/hyontnick/Canam_Concour_BI_Hyonta_B/main/canam_footer.png\">\n",
    "\n",
    "<!-- fig2&3 -->\n",
    "<div style=\"display: flex; flex-direction: row;\">\n",
    "    <img src=\"https://raw.githubusercontent.com/hyontnick/Canam_Concour_BI_Hyonta_B/main/Âge.png\" alt=\"Âge\" style=\"width: 45%; margin-right: 5%;\">\n",
    "    <img src=\"https://raw.githubusercontent.com/hyontnick/Canam_Concour_BI_Hyonta_B/main/Éducation_des_Parents.png\" alt=\"Éducation des Parents\" style=\"width: 45%;\">\n",
    "</div>\n",
    "<img src=\"https://raw.githubusercontent.com/hyontnick/Canam_Concour_BI_Hyonta_B/main/canam_footer.png\">\n",
    "\n",
    "<!-- fig4&5 -->\n",
    "<div style=\"display: flex; flex-direction: row;\">\n",
    "    <img src=\"https://raw.githubusercontent.com/hyontnick/Canam_Concour_BI_Hyonta_B/main/Race&Ethnie.png\" alt=\"Race&Ethnie\" style=\"width: 45%; margin-right: 5%;\">\n",
    "    <img src=\"https://raw.githubusercontent.com/hyontnick/Canam_Concour_BI_Hyonta_B/main/Satisfaction_Vis_a_Vis_Etablissement.png\" alt=\"Satisfaction Vis a Vis Etablissement\" style=\"width: 45%;\">\n",
    "</div>\n",
    "<img src=\"https://raw.githubusercontent.com/hyontnick/Canam_Concour_BI_Hyonta_B/main/canam_footer.png\">\n",
    "\n",
    "<!-- fig6&7 -->\n",
    "<div style=\"display: flex; flex-direction: row;\">\n",
    "    <img src=\"https://raw.githubusercontent.com/hyontnick/Canam_Concour_BI_Hyonta_B/main/Heure_de_Sommeil.png\" alt=\"Heurs Études\" style=\"width: 45%; margin-right: 5%;\">\n",
    "    <img src=\"https://raw.githubusercontent.com/hyontnick/Canam_Concour_BI_Hyonta_B/main/Heure_de_Sommeil.png\" alt=\"Heure de Sommeil\" style=\"width: 45%;\">\n",
    "</div>\n",
    "<img src=\"https://raw.githubusercontent.com/hyontnick/Canam_Concour_BI_Hyonta_B/main/canam_footer.png\">\n",
    "\n",
    "<!-- fig8&9 -->\n",
    "<div style=\"display: flex; flex-direction: row;\">\n",
    "    <img src=\"https://raw.githubusercontent.com/hyontnick/Canam_Concour_BI_Hyonta_B/main/Status_Finencier.png\" alt=\"Status Finencier\" style=\"width: 45%; margin-right: 5%;\">\n",
    "    <img src=\"https://raw.githubusercontent.com/hyontnick/Canam_Concour_BI_Hyonta_B/main/Status_Matrimoniale_des_Parents.png\" alt=\"Status Matrimoniale des Parents\" style=\"width: 45%;\">\n",
    "</div>\n",
    "<img src=\"https://raw.githubusercontent.com/hyontnick/Canam_Concour_BI_Hyonta_B/main/canam_footer.png\">\n"
   ]
  },
  {
   "cell_type": "markdown",
   "id": "5409b447",
   "metadata": {},
   "source": [
    "![green-divider](https://user-images.githubusercontent.com/7065401/52071924-c003ad80-2562-11e9-8297-1c6595f8a7ff.png)"
   ]
  },
  {
   "cell_type": "markdown",
   "id": "07ca06b5",
   "metadata": {},
   "source": [
    "<p style=\"text-align: center;\"> <b>Visualisation des facteurs par Taux d'Échec </b></p>\n",
    "<div>\n",
    "    <img src=\"https://raw.githubusercontent.com/hyontnick/Canam_Concour_BI_Hyonta_B/main/Taux_Echec.png\" alt=\"Taux d'Échec\">\n",
    "</div>\n",
    "<img src=\"https://raw.githubusercontent.com/hyontnick/Canam_Concour_BI_Hyonta_B/main/canam_footer.png\">"
   ]
  },
  {
   "cell_type": "markdown",
   "id": "94fb6bd6",
   "metadata": {},
   "source": [
    "![green-divider](https://user-images.githubusercontent.com/7065401/52071924-c003ad80-2562-11e9-8297-1c6595f8a7ff.png)"
   ]
  },
  {
   "cell_type": "markdown",
   "id": "15b8b9b9",
   "metadata": {},
   "source": [
    "<p style=\"text-align: center;\"> <b>Visualisation des facteurs par Taux Réussite </b></p>\n",
    "<div>\n",
    "    <img src=\"https://raw.githubusercontent.com/hyontnick/Canam_Concour_BI_Hyonta_B/main/taux_Reussite.png\" alt=\"Taux de Reussite\">\n",
    "</div>\n",
    "<img src=\"https://raw.githubusercontent.com/hyontnick/Canam_Concour_BI_Hyonta_B/main/canam_footer.png\">"
   ]
  },
  {
   "cell_type": "markdown",
   "id": "e36e1914",
   "metadata": {},
   "source": [
    "![green-divider](https://user-images.githubusercontent.com/7065401/52071924-c003ad80-2562-11e9-8297-1c6595f8a7ff.png)"
   ]
  },
  {
   "cell_type": "markdown",
   "id": "df999390",
   "metadata": {},
   "source": [
    "> **information suplementaire.**\n",
    "\n",
    "> _Les données d'analyse [data](https://github.com/hyontnick/Canam_Concour_BI_Hyonta_B/blob/main/data.csv)._\n",
    "\n",
    "> _code source pour avec plus de graphe [code](https://github.com/hyontnick/Canam_Concour_BI_Hyonta_B/blob/main/Code_Source_Canam_Concour_Hyonta_B.ipynb)._\n",
    "\n",
    "> _rapport de l'analyse [rapport](https://drive.google.com/file/d/1Iq8tWFc68TBoCmYuwbzSHnA9d4DPx8Vd/view?usp=drive_link)._"
   ]
  },
  {
   "cell_type": "markdown",
   "id": "e06c4ec1",
   "metadata": {},
   "source": [
    "![green-divider](https://user-images.githubusercontent.com/7065401/52071924-c003ad80-2562-11e9-8297-1c6595f8a7ff.png)"
   ]
  },
  {
   "cell_type": "markdown",
   "id": "5453e4c8",
   "metadata": {},
   "source": [
    "<div style=\"text-align: center;\">\n",
    "    <h2>Write by Hyonta B</h2>\n",
    "</div>"
   ]
  },
  {
   "cell_type": "markdown",
   "id": "53f297db",
   "metadata": {},
   "source": [
    "![green-divider](https://user-images.githubusercontent.com/7065401/52071924-c003ad80-2562-11e9-8297-1c6595f8a7ff.png)"
   ]
  }
 ],
 "metadata": {
  "kernelspec": {
   "display_name": "Python 3 (ipykernel)",
   "language": "python",
   "name": "python3"
  },
  "language_info": {
   "codemirror_mode": {
    "name": "ipython",
    "version": 3
   },
   "file_extension": ".py",
   "mimetype": "text/x-python",
   "name": "python",
   "nbconvert_exporter": "python",
   "pygments_lexer": "ipython3",
   "version": "3.10.11"
  }
 },
 "nbformat": 4,
 "nbformat_minor": 5
}
